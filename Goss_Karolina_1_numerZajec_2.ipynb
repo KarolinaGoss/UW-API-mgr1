{
  "nbformat": 4,
  "nbformat_minor": 0,
  "metadata": {
    "colab": {
      "provenance": [],
      "authorship_tag": "ABX9TyN98k/2dlpCTVLienCHMHvR",
      "include_colab_link": true
    },
    "kernelspec": {
      "name": "python3",
      "display_name": "Python 3"
    },
    "language_info": {
      "name": "python"
    }
  },
  "cells": [
    {
      "cell_type": "markdown",
      "metadata": {
        "id": "view-in-github",
        "colab_type": "text"
      },
      "source": [
        "<a href=\"https://colab.research.google.com/github/KarolinaGoss/UW-API-mgr1/blob/main/Goss_Karolina_1_numerZajec_2.ipynb\" target=\"_parent\"><img src=\"https://colab.research.google.com/assets/colab-badge.svg\" alt=\"Open In Colab\"/></a>"
      ]
    },
    {
      "cell_type": "markdown",
      "source": [
        "zadanie 1"
      ],
      "metadata": {
        "id": "lt31l3znDSVG"
      }
    },
    {
      "cell_type": "code",
      "execution_count": 12,
      "metadata": {
        "colab": {
          "base_uri": "https://localhost:8080/"
        },
        "id": "L2Khk_GuDCRD",
        "outputId": "1d39d04e-5362-4dab-dc5d-407e4e450190"
      },
      "outputs": [
        {
          "output_type": "stream",
          "name": "stdout",
          "text": [
            "ęcia z pro\n",
            "23\n",
            "13\n",
            "ęcia z pro\n"
          ]
        }
      ],
      "source": [
        "bardzo = \"uwielbiam zajęcia z programowania\"\n",
        "\n",
        "print(bardzo[bardzo.find(\"ę\"):bardzo.find(\"g\")])\n",
        "print(bardzo.find(\"g\"))\n",
        "print(bardzo.find(\"ę\"))\n",
        "print(bardzo[13:23])"
      ]
    },
    {
      "cell_type": "code",
      "source": [
        "dlugosc=len(bardzo)\n",
        "print(dlugosc)\n",
        "print(bardzo[-dlugosc:])"
      ],
      "metadata": {
        "colab": {
          "base_uri": "https://localhost:8080/"
        },
        "id": "opynEXk8HtKB",
        "outputId": "d81a9a09-4f7e-4492-ff3f-1387f3fdd933"
      },
      "execution_count": 20,
      "outputs": [
        {
          "output_type": "stream",
          "name": "stdout",
          "text": [
            "33\n",
            "uwielbiam zajęcia z programowania\n"
          ]
        }
      ]
    },
    {
      "cell_type": "code",
      "source": [
        "print(bardzo[1::3])"
      ],
      "metadata": {
        "colab": {
          "base_uri": "https://localhost:8080/"
        },
        "id": "7IM0d2bUKKQu",
        "outputId": "8ebd225b-9371-44ac-c314-e20576c346f4"
      },
      "execution_count": 21,
      "outputs": [
        {
          "output_type": "stream",
          "name": "stdout",
          "text": [
            "wlazęa oawi\n"
          ]
        }
      ]
    },
    {
      "cell_type": "markdown",
      "source": [
        "zadanie 2"
      ],
      "metadata": {
        "id": "4zO3P12iKqEs"
      }
    },
    {
      "cell_type": "code",
      "source": [
        "kolor = \"Czarny to mój ulubiony kolor, niestety, kolor czarny bardzo szybko spiera się z moich ubrań\"\n",
        "podzielone = kolor.split(\" \") # dzielę słowa po spacji\n",
        "print(podzielone)\n",
        "wynik = True # zakładam, że każde słowo zaczyna się z dużej litery\n",
        "for slowo in podzielone:\n",
        "  if slowo[0].islower(): # jeżeli pierwszy znak jakiegokolwiek słowa zaczyna się z małej litery\n",
        "    wynik = False # to wynik nie może być prawdą - nie wszystkie słowa zaczynają się od wielkiej litery\n",
        "print(wynik)\n"
      ],
      "metadata": {
        "colab": {
          "base_uri": "https://localhost:8080/"
        },
        "id": "j3OLyEEQKrXf",
        "outputId": "15e25273-54bd-4186-8402-8766e8cce845"
      },
      "execution_count": 70,
      "outputs": [
        {
          "output_type": "stream",
          "name": "stdout",
          "text": [
            "['Czarny', 'to', 'mój', 'ulubiony', 'kolor,', 'niestety,', 'kolor', 'czarny', 'bardzo', 'szybko', 'spiera', 'się', 'z', 'moich', 'ubrań']\n",
            "False\n"
          ]
        }
      ]
    },
    {
      "cell_type": "code",
      "source": [
        "print(kolor.startswith(\"C\"))\n",
        "if kolor[0] == \"C\":\n",
        "  print(True)\n",
        "else:\n",
        "  print(False)"
      ],
      "metadata": {
        "colab": {
          "base_uri": "https://localhost:8080/"
        },
        "id": "CW5MUGTGQb2Z",
        "outputId": "a3028c24-210a-4629-8c2a-bc5e48cd6eaa"
      },
      "execution_count": 65,
      "outputs": [
        {
          "output_type": "stream",
          "name": "stdout",
          "text": [
            "True\n",
            "True\n"
          ]
        }
      ]
    },
    {
      "cell_type": "code",
      "source": [
        "kolor = kolor.lower().replace(\"czarny\", \"biały\").capitalize()\n",
        "print(kolor)"
      ],
      "metadata": {
        "colab": {
          "base_uri": "https://localhost:8080/"
        },
        "id": "R-6NFdi1RhFT",
        "outputId": "b211e851-a179-457c-9b12-4b9432259000"
      },
      "execution_count": 73,
      "outputs": [
        {
          "output_type": "stream",
          "name": "stdout",
          "text": [
            "Biały to mój ulubiony kolor, niestety, kolor biały bardzo szybko spiera się z moich ubrań\n"
          ]
        }
      ]
    }
  ]
}