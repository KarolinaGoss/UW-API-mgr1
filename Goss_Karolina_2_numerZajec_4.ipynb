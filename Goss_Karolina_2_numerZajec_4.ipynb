{
  "nbformat": 4,
  "nbformat_minor": 0,
  "metadata": {
    "colab": {
      "provenance": [],
      "authorship_tag": "ABX9TyNtDDZZwa5uWA9AoN0DYjgi",
      "include_colab_link": true
    },
    "kernelspec": {
      "name": "python3",
      "display_name": "Python 3"
    },
    "language_info": {
      "name": "python"
    }
  },
  "cells": [
    {
      "cell_type": "markdown",
      "metadata": {
        "id": "view-in-github",
        "colab_type": "text"
      },
      "source": [
        "<a href=\"https://colab.research.google.com/github/KarolinaGoss/UW-API-mgr1/blob/main/Goss_Karolina_2_numerZajec_4.ipynb\" target=\"_parent\"><img src=\"https://colab.research.google.com/assets/colab-badge.svg\" alt=\"Open In Colab\"/></a>"
      ]
    },
    {
      "cell_type": "code",
      "execution_count": 6,
      "metadata": {
        "colab": {
          "base_uri": "https://localhost:8080/"
        },
        "id": "KsGH69BLlSho",
        "outputId": "5672b030-e0c1-467c-8851-162c0f503a77"
      },
      "outputs": [
        {
          "output_type": "stream",
          "name": "stdout",
          "text": [
            "Podaj liczbę rzędów: 9\n",
            "\n",
            "1\n",
            "12\n",
            "123\n",
            "1234\n",
            "12345\n",
            "123456\n",
            "1234567\n",
            "12345678\n"
          ]
        }
      ],
      "source": [
        "n = int(input(\"Podaj liczbę rzędów: \"))\n",
        "\n",
        "for i in range(1, n + 1):\n",
        "    for j in range(1, i):\n",
        "        print(j, end=\"\")\n",
        "    print()"
      ]
    },
    {
      "cell_type": "code",
      "source": [
        "for i in range(2, 5):\n",
        "    print('*' * i)\n",
        "for i in range(4, 1, -1):\n",
        "    print('*' * i)"
      ],
      "metadata": {
        "colab": {
          "base_uri": "https://localhost:8080/"
        },
        "id": "Mrex4SOVqVxN",
        "outputId": "460785d0-2ce6-4f1f-8d10-f5090543243e"
      },
      "execution_count": null,
      "outputs": [
        {
          "output_type": "stream",
          "name": "stdout",
          "text": [
            "**\n",
            "***\n",
            "****\n",
            "****\n",
            "***\n",
            "**\n"
          ]
        }
      ]
    },
    {
      "cell_type": "code",
      "source": [
        "lista = [6, 2, 3, 7, 1, 12, 56, 99]\n",
        "minimum = lista[0]\n",
        "# minimum = min(lista)\n",
        "for i in range(len(lista)):\n",
        "  if lista[i] < minimum:\n",
        "    minimum = lista[i]\n",
        "  if 10 <= lista[i] <= 99:\n",
        "    lista[i] = str(lista[i]) #\"napis\"\n",
        "#print(lista)\n",
        "\n",
        "print(\"Najmniejsza liczba na liscie to: \", minimum)"
      ],
      "metadata": {
        "colab": {
          "base_uri": "https://localhost:8080/"
        },
        "id": "SE_BEbVUquMj",
        "outputId": "2a9ef433-de6e-4ce2-f5ac-302714ba656b"
      },
      "execution_count": 19,
      "outputs": [
        {
          "output_type": "stream",
          "name": "stdout",
          "text": [
            "Najmniejsza liczba na liscie to:  1\n"
          ]
        }
      ]
    }
  ]
}