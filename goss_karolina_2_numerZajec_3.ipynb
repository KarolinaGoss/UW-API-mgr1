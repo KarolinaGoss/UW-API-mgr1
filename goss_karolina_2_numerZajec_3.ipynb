{
  "nbformat": 4,
  "nbformat_minor": 0,
  "metadata": {
    "colab": {
      "provenance": [],
      "authorship_tag": "ABX9TyN4pn1/D8qPfr46A5jbEaIt",
      "include_colab_link": true
    },
    "kernelspec": {
      "name": "python3",
      "display_name": "Python 3"
    },
    "language_info": {
      "name": "python"
    }
  },
  "cells": [
    {
      "cell_type": "markdown",
      "metadata": {
        "id": "view-in-github",
        "colab_type": "text"
      },
      "source": [
        "<a href=\"https://colab.research.google.com/github/KarolinaGoss/UW-API-mgr1/blob/main/goss_karolina_2_numerZajec_3.ipynb\" target=\"_parent\"><img src=\"https://colab.research.google.com/assets/colab-badge.svg\" alt=\"Open In Colab\"/></a>"
      ]
    },
    {
      "cell_type": "code",
      "execution_count": 23,
      "metadata": {
        "colab": {
          "base_uri": "https://localhost:8080/"
        },
        "id": "jnPo77Y4Cazy",
        "outputId": "98311e94-6134-4969-90cc-461b62d4f567"
      },
      "outputs": [
        {
          "name": "stdout",
          "output_type": "stream",
          "text": [
            "Imię: Karolina\n",
            "Nazwisko: Goss\n",
            "Wiek: 25/.\n",
            "Wpisz poprawnie wiek 25\n",
            "hasło: lele\n",
            "powtórz hasło: lele\n"
          ]
        }
      ],
      "source": [
        "imie = input(\"Imię: \")\n",
        "nazwisko = input(\"Nazwisko: \")\n",
        "wiek = input(\"Wiek: \")\n",
        "\n",
        "while not wiek.isdigit():\n",
        "  wiek = input(\"Wpisz poprawnie wiek \")\n",
        "\n",
        "haslo = input(\"hasło: \")\n",
        "powtorz = input(\"powtórz hasło: \")\n",
        "\n",
        "while haslo != powtorz:\n",
        "  haslo = input(\"hasła nie są takie same, spróbuj ponownie: \")\n",
        "  powtorz = input(\"powtórz hasło: \")\n",
        "\n"
      ]
    },
    {
      "cell_type": "code",
      "source": [
        "tele = input(\"Numer telefonu: \")\n",
        "suma_tele = 0\n",
        "while suma_tele != 9:\n",
        "  for e in tele:\n",
        "    if e.isdigit():\n",
        "      suma_tele += 1\n",
        "    elif not e == '-' and not e == ' ':\n",
        "     tele = input(\"Podaj poprawny numer telefonu: \")\n",
        "     suma_tele = 0\n",
        "  if suma_tele != 9:\n",
        "    tele = input(\"Podaj poprawny numer telefonu: \")\n",
        "    suma_tele = 0"
      ],
      "metadata": {
        "colab": {
          "base_uri": "https://localhost:8080/"
        },
        "id": "cJ8e5AmHG2sh",
        "outputId": "f19f106a-ca09-4062-bd14-9b6ff5030a8d"
      },
      "execution_count": 24,
      "outputs": [
        {
          "name": "stdout",
          "output_type": "stream",
          "text": [
            "Numer telefonu: 1234567890\n",
            "Podaj poprawny numer telefonu: 123 456 789\n"
          ]
        }
      ]
    },
    {
      "cell_type": "code",
      "source": [
        "print(\"Rejestrujesz się jako:\\nImię: {}\\nNazwisko: {}\\nWiek: {}\\nHasło: {}\\nNumer telefonu: {}\".format(imie, nazwisko, wiek, haslo, tele))"
      ],
      "metadata": {
        "colab": {
          "base_uri": "https://localhost:8080/"
        },
        "id": "3MxrEulaJ3LT",
        "outputId": "ae32fee4-4f08-4dde-8ea5-492d839f775b"
      },
      "execution_count": 25,
      "outputs": [
        {
          "output_type": "stream",
          "name": "stdout",
          "text": [
            "Rejestrujesz się jako:\n",
            "Imię: Karolina\n",
            "Nazwisko: Goss\n",
            "Wiek: 25\n",
            "Hasło: lele\n",
            "Numer telefonu: 123 456 789\n"
          ]
        }
      ]
    },
    {
      "cell_type": "markdown",
      "source": [
        "**zadanie 2**\n",
        "kalkulator (tylko liczby całkowite)"
      ],
      "metadata": {
        "id": "JA4ku6n4Lm5Y"
      }
    },
    {
      "cell_type": "code",
      "source": [
        "l1 = input(\"podaj pierwszą liczbę \")\n",
        "l2 = input(\"podaj drugą liczbę \")\n",
        "\n",
        "while not l1.isdigit():\n",
        "  l1 = input(\"Podaj poprawnie pierwszą liczbę \")\n",
        "\n",
        "while not l2.isdigit():\n",
        "  l2 = input(\"Podaj poprawnie drugą liczbę \")\n",
        "\n",
        "l1_int = int(l1)\n",
        "l2_int = int(l2)\n",
        "\n",
        "print(\"\"\"\n",
        "+ - Dodawanie\n",
        "- - odejmowanie\n",
        "* - mnożenie\n",
        "/ - dzielenie\n",
        "^ - potęgowanie\n",
        "% - reszta z dzielenia\n",
        "\"\"\")\n",
        "operacja = input(\"Jaką chcesz wykonać operację matematyczną: \")\n",
        "\n",
        "while len(operacja) != 1:\n",
        "  operacja = input(\"Podaj poprawną operację \")\n",
        "\n",
        "while operacja != \"x\":\n",
        "  if operacja == \"+\":\n",
        "    print(l1_int + l2_int)\n",
        "  elif operacja == \"-\":\n",
        "    print(l1_int - l2_int)\n",
        "  elif operacja == \"*\":\n",
        "    print(l1_int * l2_int)\n",
        "  elif operacja == \"/\":\n",
        "    print(l1_int / l2_int)\n",
        "  elif operacja == \"^\":\n",
        "    print(l1_int ** l2_int)\n",
        "  elif operacja == \"%\":\n",
        "    print(l1_int % l2_int)\n",
        "  operacja = input(\"Podaj poprawną operację lub 'x' aby wyjść \")\n"
      ],
      "metadata": {
        "id": "JlhXd6YoLop_",
        "colab": {
          "base_uri": "https://localhost:8080/"
        },
        "outputId": "69365366-c67f-4c68-b122-261b91af2ce5"
      },
      "execution_count": 26,
      "outputs": [
        {
          "name": "stdout",
          "output_type": "stream",
          "text": [
            "podaj pierwszą liczbę 2\n",
            "podaj drugą liczbę 4\n",
            "\n",
            "+ - Dodawanie\n",
            "- - odejmowanie\n",
            "* - mnożenie\n",
            "/ - dzielenie\n",
            "^ - potęgowanie\n",
            "% - reszta z dzielenia\n",
            "\n",
            "Jaką chcesz wykonać operację matematyczną: ^\n",
            "16\n",
            "Podaj poprawną operację lub 'x' aby wyjść -\n",
            "-2\n",
            "Podaj poprawną operację lub 'x' aby wyjść x\n"
          ]
        }
      ]
    }
  ]
}