{
  "nbformat": 4,
  "nbformat_minor": 0,
  "metadata": {
    "colab": {
      "provenance": [],
      "authorship_tag": "ABX9TyPy644UC3vPysKpzJzp5vnf",
      "include_colab_link": true
    },
    "kernelspec": {
      "name": "python3",
      "display_name": "Python 3"
    },
    "language_info": {
      "name": "python"
    }
  },
  "cells": [
    {
      "cell_type": "markdown",
      "metadata": {
        "id": "view-in-github",
        "colab_type": "text"
      },
      "source": [
        "<a href=\"https://colab.research.google.com/github/KarolinaGoss/UW-API-mgr1/blob/main/goss_karolina_2_numerZajec_3.ipynb\" target=\"_parent\"><img src=\"https://colab.research.google.com/assets/colab-badge.svg\" alt=\"Open In Colab\"/></a>"
      ]
    },
    {
      "cell_type": "code",
      "execution_count": 5,
      "metadata": {
        "colab": {
          "base_uri": "https://localhost:8080/"
        },
        "id": "jnPo77Y4Cazy",
        "outputId": "d6dae413-8bce-4ca0-d7d0-d2a0a0ecf555"
      },
      "outputs": [
        {
          "name": "stdout",
          "output_type": "stream",
          "text": [
            "Imię: lele\n",
            "Nazwisko: lele\\\n",
            "Wiek: 3\n",
            "hasło: lele\n",
            "powtórz hasło: lele\n"
          ]
        }
      ],
      "source": [
        "imie = input(\"Imię: \")\n",
        "nazwisko = input(\"Nazwisko: \")\n",
        "wiek = input(\"Wiek: \")\n",
        "\n",
        "while not wiek.isdigit():\n",
        "  wiek = input(\"Wpisz poprawnie wiek\")\n",
        "\n",
        "haslo = input(\"hasło: \")\n",
        "powtorz = input(\"powtórz hasło: \")\n",
        "\n",
        "while haslo != powtorz:\n",
        "  haslo = input(\"hasła nie są takie same, spróbuj ponownie: \")\n",
        "  powtorz = input(\"powtórz hasło: \")\n",
        "\n"
      ]
    },
    {
      "cell_type": "code",
      "source": [
        "tele = input(\"Numer telefonu: \")\n",
        "suma_tele = 0\n",
        "while suma_tele != 9:\n",
        "  for e in tele:\n",
        "    if e.isdigit():\n",
        "      suma_tele += 1\n",
        "    elif not e == '-' and not e == ' ':\n",
        "     tele = input(\"Podaj poprawny numer telefonu: \")\n",
        "     suma_tele = 0\n",
        "  if suma_tele != 9:\n",
        "    tele = input(\"Podaj poprawny numer telefonu: \")\n",
        "    suma_tele = 0"
      ],
      "metadata": {
        "colab": {
          "base_uri": "https://localhost:8080/"
        },
        "id": "cJ8e5AmHG2sh",
        "outputId": "8386b287-6226-42fc-82b3-52e00b7598bb"
      },
      "execution_count": null,
      "outputs": [
        {
          "name": "stdout",
          "output_type": "stream",
          "text": [
            "Numer telefonu: 1234567890\n",
            "Podaj poprawny numer telefonu: 1234-56789\n"
          ]
        }
      ]
    },
    {
      "cell_type": "code",
      "source": [
        "print(\"Rejestrujesz się jako:\\nImię: {}\\nNazwisko: {}\\nWiek: {}\\nHasło: {}\\nNumer telefonu: {}\".format(imie, nazwisko, wiek, haslo, tele))"
      ],
      "metadata": {
        "colab": {
          "base_uri": "https://localhost:8080/"
        },
        "id": "3MxrEulaJ3LT",
        "outputId": "1db63749-8bd9-4629-81a2-bcde48333a59"
      },
      "execution_count": null,
      "outputs": [
        {
          "output_type": "stream",
          "name": "stdout",
          "text": [
            "Rejestrujesz się jako:\n",
            "Imię: lala\n",
            "Nazwisko: lele\n",
            "Wiek: 13\n",
            "Hasło: lala\n",
            "Numer telefonu: 1234-56789\n"
          ]
        }
      ]
    },
    {
      "cell_type": "markdown",
      "source": [
        "zadanie 2\n",
        "kalkulator (tylko liczby całkowite)"
      ],
      "metadata": {
        "id": "JA4ku6n4Lm5Y"
      }
    },
    {
      "cell_type": "code",
      "source": [
        "l1 = input(\"podaj pierwszą liczbę\")\n",
        "l2 = input(\"podaj drugą liczbę\")\n",
        "\n",
        "while not l1.isdigit():\n",
        "  l1 = input(\"Podaj poprawnie pierwszą liczbę\")\n",
        "\n",
        "while not l2.isdigit():\n",
        "  l2 = input(\"Podaj poprawnie drugą liczbę\")\n",
        "\n",
        "print(\"\"\"\n",
        "+ - Dodawanie\n",
        "- - odejmowanie\n",
        "* - mnożenie\n",
        "/ - dzielenie\n",
        "^ - potęgowanie\n",
        "% - reszta z dzielenia\n",
        "\"\"\")\n",
        "operacja = input(\"Jaką chcesz wykonać operację matematyczną: \")\n",
        "\n",
        "while len(operacja) != 1:\n",
        "  operacja = input(\"Podaj poprawną operację\")\n",
        "\n",
        "while operacja != \"x\":\n",
        "  if operacja == \"+\":\n",
        "    print(l1 + l2)\n",
        "  elif operacja == \"-\":\n",
        "    print(l1 - l2)\n",
        "  elif operacja == \"*\":\n",
        "    print(l1 * l2)\n",
        "  elif operacja == \"/\":\n",
        "    print(l1 / l2)\n",
        "  elif operacja == \"^\":\n",
        "    print(l1 ** l2)\n",
        "  elif operacja == \"%\":\n",
        "    print(l1 % l2)\n",
        "  else:\n",
        "    operacja = input(\"Podaj poprawną operację\")\n"
      ],
      "metadata": {
        "id": "JlhXd6YoLop_"
      },
      "execution_count": null,
      "outputs": []
    }
  ]
}