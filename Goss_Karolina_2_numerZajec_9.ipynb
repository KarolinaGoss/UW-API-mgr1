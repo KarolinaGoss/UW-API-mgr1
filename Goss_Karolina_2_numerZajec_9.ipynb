{
  "nbformat": 4,
  "nbformat_minor": 0,
  "metadata": {
    "colab": {
      "provenance": [],
      "authorship_tag": "ABX9TyM3RjQjsw2yjE6olCKRHcVW",
      "include_colab_link": true
    },
    "kernelspec": {
      "name": "python3",
      "display_name": "Python 3"
    },
    "language_info": {
      "name": "python"
    }
  },
  "cells": [
    {
      "cell_type": "markdown",
      "metadata": {
        "id": "view-in-github",
        "colab_type": "text"
      },
      "source": [
        "<a href=\"https://colab.research.google.com/github/KarolinaGoss/UW-API-mgr1/blob/main/Goss_Karolina_2_numerZajec_9.ipynb\" target=\"_parent\"><img src=\"https://colab.research.google.com/assets/colab-badge.svg\" alt=\"Open In Colab\"/></a>"
      ]
    },
    {
      "cell_type": "code",
      "execution_count": null,
      "metadata": {
        "colab": {
          "base_uri": "https://localhost:8080/"
        },
        "id": "V8oqDdLTSwxB",
        "outputId": "cf84d18d-9111-4a9a-954c-276957029e38"
      },
      "outputs": [
        {
          "output_type": "stream",
          "name": "stdout",
          "text": [
            "Requirement already satisfied: regex in /usr/local/lib/python3.10/dist-packages (2023.6.3)\n"
          ]
        }
      ],
      "source": [
        "!pip install regex"
      ]
    },
    {
      "cell_type": "code",
      "source": [
        "import regex as re"
      ],
      "metadata": {
        "id": "f5fvDgxCS11V"
      },
      "execution_count": null,
      "outputs": []
    },
    {
      "cell_type": "code",
      "source": [
        "tekst1 = \"Imię i nazwisko: Hubar, Patryk. Data urodzenia: 7 czerwca 1993. Numer telefonu: 123-456-789\"\n",
        "tekst2 = \"Imię i nazwisko: Mickiewicz, Adam. Data urodzenia: 22 stycznia 1877. Numer telefonu: 789456123\""
      ],
      "metadata": {
        "id": "MPZ6tjPFTclz"
      },
      "execution_count": null,
      "outputs": []
    },
    {
      "cell_type": "code",
      "source": [
        "imie_nazwisko = re.findall(\"[A-Z][a-z]+[,]+\\s+[A-Z][a-z]+\" , tekst1+tekst2)\n",
        "print(imie_nazwisko)\n",
        "\n",
        "data_urodzenia = re.findall(\"\\d{1,2}+\\s+[a-z]+\\s+\\d{4}\", tekst1+tekst2)\n",
        "print(data)\n",
        "\n",
        "numer_tele = re.findall(\"\\d{3}-\\d{3}-\\d{3}|\\d{9}\", tekst1+tekst2)\n",
        "print(numer_tele)"
      ],
      "metadata": {
        "id": "kpzMvsGuTpqX",
        "colab": {
          "base_uri": "https://localhost:8080/"
        },
        "outputId": "c77f7b55-afed-48cd-81c1-16426a4610cf"
      },
      "execution_count": null,
      "outputs": [
        {
          "output_type": "stream",
          "name": "stdout",
          "text": [
            "['Hubar, Patryk', 'Mickiewicz, Adam']\n",
            "['7 czerwca 1993', '22 stycznia 1877']\n",
            "['123-456-789', '789456123']\n"
          ]
        }
      ]
    }
  ]
}