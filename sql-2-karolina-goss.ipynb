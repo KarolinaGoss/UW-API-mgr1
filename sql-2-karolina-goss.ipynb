{
  "nbformat": 4,
  "nbformat_minor": 0,
  "metadata": {
    "colab": {
      "provenance": [],
      "authorship_tag": "ABX9TyM6HfeC0sXMYMQZimNgRkRB",
      "include_colab_link": true
    },
    "kernelspec": {
      "name": "python3",
      "display_name": "Python 3"
    },
    "language_info": {
      "name": "python"
    }
  },
  "cells": [
    {
      "cell_type": "markdown",
      "metadata": {
        "id": "view-in-github",
        "colab_type": "text"
      },
      "source": [
        "<a href=\"https://colab.research.google.com/github/KarolinaGoss/UW-API-mgr1/blob/main/sql-2-karolina-goss.ipynb\" target=\"_parent\"><img src=\"https://colab.research.google.com/assets/colab-badge.svg\" alt=\"Open In Colab\"/></a>"
      ]
    },
    {
      "cell_type": "code",
      "execution_count": null,
      "metadata": {
        "colab": {
          "base_uri": "https://localhost:8080/"
        },
        "id": "9wLAXVpIJj36",
        "outputId": "ab14798f-f7a4-4b04-e6ca-86140d1996e1"
      },
      "outputs": [
        {
          "output_type": "stream",
          "name": "stdout",
          "text": [
            "Requirement already satisfied: db-sqlite3 in /usr/local/lib/python3.10/dist-packages (0.0.1)\n",
            "Requirement already satisfied: db in /usr/local/lib/python3.10/dist-packages (from db-sqlite3) (0.1.1)\n",
            "Requirement already satisfied: antiorm in /usr/local/lib/python3.10/dist-packages (from db->db-sqlite3) (1.2.1)\n"
          ]
        }
      ],
      "source": [
        "!pip install db-sqlite3"
      ]
    },
    {
      "cell_type": "code",
      "source": [
        "import sqlite3"
      ],
      "metadata": {
        "id": "mKtIBdawJ9gT"
      },
      "execution_count": null,
      "outputs": []
    },
    {
      "cell_type": "code",
      "source": [
        "conn = sqlite3.connect(\"kosmetyki.db\")"
      ],
      "metadata": {
        "id": "EQkFaSaIJ-dL"
      },
      "execution_count": null,
      "outputs": []
    },
    {
      "cell_type": "code",
      "source": [
        "cursor = conn.cursor()"
      ],
      "metadata": {
        "id": "MxWusD4PKChD"
      },
      "execution_count": null,
      "outputs": []
    },
    {
      "cell_type": "code",
      "source": [
        "database_creation_query = '''\n",
        "\n",
        "CREATE TABLE if not exists odzywki (\n",
        "\n",
        "  id INTEGER PRIMARY KEY,\n",
        "  marka TEXT NOT NULL,\n",
        "  nazwa TEXT NOT NULL,\n",
        "  opis TEXT NOT NULL,\n",
        "  cena FLOAT NOT NULL,\n",
        "  sklad TEXT NOT NULL\n",
        "\n",
        ")\n",
        "\n",
        "'''"
      ],
      "metadata": {
        "id": "GZNNdBorKRhZ"
      },
      "execution_count": null,
      "outputs": []
    },
    {
      "cell_type": "code",
      "source": [
        "cursor.execute(database_creation_query)"
      ],
      "metadata": {
        "id": "408YakQiMGnB",
        "colab": {
          "base_uri": "https://localhost:8080/"
        },
        "outputId": "7d536a09-9e1d-40d2-ffc9-6d61e2cd5ca3"
      },
      "execution_count": null,
      "outputs": [
        {
          "output_type": "execute_result",
          "data": {
            "text/plain": [
              "<sqlite3.Cursor at 0x7a0b0081b840>"
            ]
          },
          "metadata": {},
          "execution_count": 56
        }
      ]
    },
    {
      "cell_type": "code",
      "source": [
        "from dataclasses import dataclass"
      ],
      "metadata": {
        "id": "xSm0pcBuMyLR"
      },
      "execution_count": null,
      "outputs": []
    },
    {
      "cell_type": "code",
      "source": [
        "@dataclass\n",
        "class Odzywki:\n",
        "  marka:str\n",
        "  nazwa:str\n",
        "  opis:str\n",
        "  cena:float\n",
        "  sklad:str"
      ],
      "metadata": {
        "id": "sB-MHM5sMy75"
      },
      "execution_count": null,
      "outputs": []
    },
    {
      "cell_type": "code",
      "source": [
        "loreal = Odzywki(\"L'ORÉAL PARIS\", \"ELSEVE Glycolic Gloss\", \"odżywka do włosów, wygładzająca, 150ml\", 31.99, \"Aqua / Water / Eau • Cetearyl Alcohol • Behentrimonium Chloride • Amodimethicone • Ci 77891 / Titanium Dioxide • Ci 17200 / Red 33 • Ci 19140 / Yellow 5 • Mica • Hydroxycitronellal • Phenoxyethanol • Trideceth-6 • Limonene • Benzoic Acid • Linalool • Isopropyl Alcohol • Potassium Hydroxide • Cetrimonium Chloride • Hexyl Cinnamal • Glycolic Acid • Parfum / Fragrance (f.i.l. T70031844/1).\")\n",
        "yope1 = Odzywki(\"YOPE\", \"Balance My Hair\", \"odżywka do włosów z emolientami, 300ml\", 21.49, \"Aqua, Cetearyl Alcohol, Brassicamidopropyl Dimethylamine, Macadamia Integrifolia Seed Oil, Adansonia Digitata Seed Oil, Aspartic Acid, Cetyl Esters, Gluconolactone, Glyceryl Stearate, Levulinic Acid, Glycerin, Propanediol, Sodium Levulinate, Azadirachta Indica Leaf Extract, Lactic Acid, Hibiscus Sabdariffa Flower Extract, Bellis Perennis (Daisy) Flower Extract, Jasminum Officinale (Jasmine) Flower Extract, Spiraea Ulmaria Flower Extract, Backhousia Citriodora Leaf Extract, Tartaric Acid, 1,2-Hexanediol, Citric Acid, Butylene Glycol, Parfum.\")\n",
        "yope2 = Odzywki(\"YOPE\", \"Orientalny Ogród\", \"odżywka do włosów suchych i zniszczonych, 170ml\", 12.99, \"Aqua, Cetearyl Alcohol, Behentrimonium Chloride, Glycerin, Decyl Oleate, Butyrospermum Parkii Butter, Argania Spinosa Kernel Oil, Polyglyceryl-3 PCA, Hydrolyzed Vegetable Protein, Cassia Hydroxypropyltrimonium Chloride, Lactic Acid, Lauryl Lactyl Lactate, Vanilla Planifolia Fruit Extract, Rosa Gallica Flower Extract, Santalum Album Extract, Parfum, Dehydroacetic Acid, Benzyl Alcohol, Citric Acid, Sodium Benzoate, Potassium Sorbate\")\n",
        "miya1 = Odzywki(\"MIYA COSMETICS\", \"superHAIRday\", \"odżywka do włosów, lekka, bez spłukiwania, 100ml\", 34.99, \"Aqua*, C15-19 Alkane*, Methyl Glucose Sesquistearate*, Stearamidopropyl Dimethylamine*, Propanediol*, Cocos Nucifera Water*, Leuconostoc/Radish Root Ferment Filtrate*, Butyrospermum Parkii Butter*, Glyceryl Stearate*, Centella Asiatica Extract*, Panthenol, Moringa Oleifera Seed Oil*, Glycerin*, Tocopheryl Acetate, Allantoin, Arginine*, Lactic Acid*, Tetrasodium Glutamate Diacetate, Sodium Benzoate, Potassium Sorbate, Phenoxyethanol, Ethylhexylglycerin, Sodium Hydroxide, Citric Acid, Parfum. *składnik pochodzenia naturalnego\")\n",
        "anwen1 = Odzywki(\"ANWEN\", \"Emolientowa Róża\", \"odżywka do włosów o wysokiej porowatości, 200 ml\", 32.99, \"Aqua, Cetearyl Alcohol, Butyrospermum Parkii (Shea Butter), Cucurbita Pepo (Pumpkin) Seed Oil, Behentrimonium Chloride, Brassica Oleracea Italica Seed Oil, Papaver Somniferum Seed Oil Carthamus Tinctorius Seed Oil, Raphanus Sativus Seed Oil, Cetrimonium Chloride, Starch Hydroxypropyltrimonium Chloride, Phenoxyethanol, Benzoic Acid, Dehydroacetic Acid, Parfum, Citronallol, Geraniol, Linalool.\")\n"
      ],
      "metadata": {
        "id": "XmOgYzZcObXy"
      },
      "execution_count": null,
      "outputs": []
    },
    {
      "cell_type": "code",
      "source": [
        "cursor.execute(\"INSERT INTO odzywki (marka, nazwa, opis, cena, sklad) VALUES (?, ?, ?, ?, ?)\", (loreal.marka, loreal.nazwa, loreal.opis, loreal.cena, loreal.sklad))\n",
        "cursor.execute(\"INSERT INTO odzywki (marka, nazwa, opis, cena, sklad) VALUES (?, ?, ?, ?, ?)\", (yope1.marka, yope1.nazwa, yope1.opis, yope1.cena, yope1.sklad))\n",
        "cursor.execute(\"INSERT INTO odzywki (marka, nazwa, opis, cena, sklad) VALUES (?, ?, ?, ?, ?)\", (yope2.marka, yope2.nazwa, yope2.opis, yope2.cena, yope2.sklad))\n",
        "cursor.execute(\"INSERT INTO odzywki (marka, nazwa, opis, cena, sklad) VALUES (?, ?, ?, ?, ?)\", (miya1.marka, miya1.nazwa, miya1.opis, miya1.cena, miya1.sklad))\n",
        "cursor.execute(\"INSERT INTO odzywki (marka, nazwa, opis, cena, sklad) VALUES (?, ?, ?, ?, ?)\", (anwen1.marka, anwen1.nazwa, anwen1.opis, anwen1.cena, anwen1.sklad))\n",
        "\n",
        "conn.commit()"
      ],
      "metadata": {
        "id": "Clujt-fDPnmY"
      },
      "execution_count": null,
      "outputs": []
    },
    {
      "cell_type": "code",
      "source": [
        "cursor.execute(\"SELECT * FROM odzywki\")\n",
        "\n",
        "wyniki = cursor.fetchall()\n",
        "for elem in wyniki:\n",
        "  print(elem)"
      ],
      "metadata": {
        "colab": {
          "base_uri": "https://localhost:8080/"
        },
        "id": "AzRCFKanVQNS",
        "outputId": "d80eb125-e760-4347-98c5-6c9aac680ac2"
      },
      "execution_count": null,
      "outputs": [
        {
          "output_type": "stream",
          "name": "stdout",
          "text": [
            "(1, \"L'ORÉAL PARIS\", 'ELSEVE Glycolic Gloss', 'odżywka do włosów, wygładzająca, 150ml', 31.99, 'Aqua / Water / Eau • Cetearyl Alcohol • Behentrimonium Chloride • Amodimethicone • Ci 77891 / Titanium Dioxide • Ci 17200 / Red 33 • Ci 19140 / Yellow 5 • Mica • Hydroxycitronellal • Phenoxyethanol • Trideceth-6 • Limonene • Benzoic Acid • Linalool • Isopropyl Alcohol • Potassium Hydroxide • Cetrimonium Chloride • Hexyl Cinnamal • Glycolic Acid • Parfum / Fragrance (f.i.l. T70031844/1).')\n",
            "(2, 'YOPE', 'Balance My Hair', 'odżywka do włosów z emolientami, 300ml', 21.49, 'Aqua, Cetearyl Alcohol, Brassicamidopropyl Dimethylamine, Macadamia Integrifolia Seed Oil, Adansonia Digitata Seed Oil, Aspartic Acid, Cetyl Esters, Gluconolactone, Glyceryl Stearate, Levulinic Acid, Glycerin, Propanediol, Sodium Levulinate, Azadirachta Indica Leaf Extract, Lactic Acid, Hibiscus Sabdariffa Flower Extract, Bellis Perennis (Daisy) Flower Extract, Jasminum Officinale (Jasmine) Flower Extract, Spiraea Ulmaria Flower Extract, Backhousia Citriodora Leaf Extract, Tartaric Acid, 1,2-Hexanediol, Citric Acid, Butylene Glycol, Parfum.')\n",
            "(3, 'YOPE', 'Orientalny Ogród', 'odżywka do włosów suchych i zniszczonych, 170ml', 12.99, 'Aqua, Cetearyl Alcohol, Behentrimonium Chloride, Glycerin, Decyl Oleate, Butyrospermum Parkii Butter, Argania Spinosa Kernel Oil, Polyglyceryl-3 PCA, Hydrolyzed Vegetable Protein, Cassia Hydroxypropyltrimonium Chloride, Lactic Acid, Lauryl Lactyl Lactate, Vanilla Planifolia Fruit Extract, Rosa Gallica Flower Extract, Santalum Album Extract, Parfum, Dehydroacetic Acid, Benzyl Alcohol, Citric Acid, Sodium Benzoate, Potassium Sorbate')\n",
            "(4, 'MIYA COSMETICS', 'superHAIRday', 'odżywka do włosów, lekka, bez spłukiwania, 100ml', 34.99, 'Aqua*, C15-19 Alkane*, Methyl Glucose Sesquistearate*, Stearamidopropyl Dimethylamine*, Propanediol*, Cocos Nucifera Water*, Leuconostoc/Radish Root Ferment Filtrate*, Butyrospermum Parkii Butter*, Glyceryl Stearate*, Centella Asiatica Extract*, Panthenol, Moringa Oleifera Seed Oil*, Glycerin*, Tocopheryl Acetate, Allantoin, Arginine*, Lactic Acid*, Tetrasodium Glutamate Diacetate, Sodium Benzoate, Potassium Sorbate, Phenoxyethanol, Ethylhexylglycerin, Sodium Hydroxide, Citric Acid, Parfum. *składnik pochodzenia naturalnego')\n",
            "(5, 'ANWEN', 'Emolientowa Róża', 'odżywka do włosów o wysokiej porowatości, 200 ml', 32.99, 'Aqua, Cetearyl Alcohol, Butyrospermum Parkii (Shea Butter), Cucurbita Pepo (Pumpkin) Seed Oil, Behentrimonium Chloride, Brassica Oleracea Italica Seed Oil, Papaver Somniferum Seed Oil Carthamus Tinctorius Seed Oil, Raphanus Sativus Seed Oil, Cetrimonium Chloride, Starch Hydroxypropyltrimonium Chloride, Phenoxyethanol, Benzoic Acid, Dehydroacetic Acid, Parfum, Citronallol, Geraniol, Linalool.')\n"
          ]
        }
      ]
    }
  ]
}